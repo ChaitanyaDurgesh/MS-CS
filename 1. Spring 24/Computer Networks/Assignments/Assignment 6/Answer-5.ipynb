{
 "cells": [
  {
   "cell_type": "code",
   "execution_count": 5,
   "metadata": {
    "id": "WsoDdIPdOxgo"
   },
   "outputs": [
    {
     "name": "stdout",
     "output_type": "stream",
     "text": [
      "Requirement already satisfied: scapy in /opt/conda/lib/python3.10/site-packages (2.5.0)\n",
      "Note: you may need to restart the kernel to use updated packages.\n"
     ]
    }
   ],
   "source": [
    "pip install scapy"
   ]
  },
  {
   "cell_type": "code",
   "execution_count": null,
   "metadata": {
    "id": "ItIUE--WOsVE"
   },
   "outputs": [
    {
     "name": "stderr",
     "output_type": "stream",
     "text": [
      "WARNING: No route found for IPv6 destination 2001:db8:2::1 (no default route?)\n",
      "WARNING: No route found for IPv6 destination 2001:db8:2::1 (no default route?)\n",
      "WARNING: getmacbyip failed on [Errno 1] Operation not permitted\n",
      "WARNING: Mac address to reach destination not found. Using broadcast.\n",
      "WARNING: getmacbyip failed on [Errno 1] Operation not permitted\n",
      "WARNING: Mac address to reach destination not found. Using broadcast.\n",
      "WARNING: more getmacbyip failed on [Errno 1] Operation not permitted\n",
      "WARNING: more Mac address to reach destination not found. Using broadcast.\n",
      "WARNING: more No route found for IPv6 destination 2001:db8:4::1 (no default route?)\n"
     ]
    }
   ],
   "source": [
    "from scapy.all import Ether, IP, IPv6, ICMP, TCP, UDP, wrpcap\n",
    "\n",
    "# Create an empty list to hold the network_packets\n",
    "network_packets = []\n",
    "\n",
    "# Generate 1 IPv6 packet with ICMP protocol\n",
    "packet = Ether() / IPv6(src=\"2001:db8:1::1\", dst=\"2001:db8:2::1\") / ICMP()\n",
    "network_packets.append(packet)\n",
    "\n",
    "# Generate 1 IPv4 packet with TCP protocol and specific source/destination ports\n",
    "packet = Ether() / IP(src=\"192.168.1.1\", dst=\"192.168.1.2\") / TCP(sport=1234, dport=5678)\n",
    "network_packets.append(packet)\n",
    "\n",
    "# Generate 1 IPv4 packet with UDP protocol and specific source/destination ports\n",
    "packet = Ether() / IP(src=\"192.168.1.3\", dst=\"192.168.1.4\") / UDP(sport=1234, dport=5678)\n",
    "network_packets.append(packet)\n",
    "\n",
    "# Generate 1 IPv4 packet with ICMP protocol\n",
    "packet = Ether() / IP(src=\"192.168.1.5\", dst=\"192.168.1.6\") / ICMP()\n",
    "network_packets.append(packet)\n",
    "\n",
    "# Generate 1 IPv6 packet with TCP protocol and specific source/destination ports\n",
    "packet = Ether() / IPv6(src=\"2001:db8:3::1\", dst=\"2001:db8:4::1\") / TCP(sport=1234, dport=5678)\n",
    "network_packets.append(packet)\n",
    "\n",
    "# Write the packet list to a pcap file\n",
    "wrpcap('rejected_packets.pcap', network_packets)"
   ]
  },
  {
   "cell_type": "code",
   "execution_count": null,
   "metadata": {},
   "outputs": [],
   "source": []
  }
 ],
 "metadata": {
  "colab": {
   "provenance": []
  },
  "kernelspec": {
   "display_name": "Python 3 (ipykernel)",
   "language": "python",
   "name": "python3"
  },
  "language_info": {
   "codemirror_mode": {
    "name": "ipython",
    "version": 3
   },
   "file_extension": ".py",
   "mimetype": "text/x-python",
   "name": "python",
   "nbconvert_exporter": "python",
   "pygments_lexer": "ipython3",
   "version": "3.10.6"
  }
 },
 "nbformat": 4,
 "nbformat_minor": 4
}
