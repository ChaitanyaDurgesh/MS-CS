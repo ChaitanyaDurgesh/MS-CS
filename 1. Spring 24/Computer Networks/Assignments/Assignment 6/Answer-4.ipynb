{
 "cells": [
  {
   "cell_type": "code",
   "execution_count": 1,
   "metadata": {
    "colab": {
     "base_uri": "https://localhost:8080/"
    },
    "id": "WsoDdIPdOxgo",
    "outputId": "071da1ac-8b95-40ac-cbaa-ccfaeb184a3a"
   },
   "outputs": [
    {
     "name": "stdout",
     "output_type": "stream",
     "text": [
      "Requirement already satisfied: scapy in /opt/conda/lib/python3.10/site-packages (2.5.0)\n",
      "Note: you may need to restart the kernel to use updated packages.\n"
     ]
    }
   ],
   "source": [
    "pip install scapy"
   ]
  },
  {
   "cell_type": "code",
   "execution_count": 15,
   "metadata": {
    "colab": {
     "base_uri": "https://localhost:8080/",
     "height": 356
    },
    "id": "ItIUE--WOsVE",
    "outputId": "13e75a40-6630-41e8-de3d-8739d582ca64"
   },
   "outputs": [
    {
     "name": "stderr",
     "output_type": "stream",
     "text": [
      "WARNING: getmacbyip failed on [Errno 1] Operation not permitted\n",
      "WARNING: Mac address to reach destination not found. Using broadcast.\n",
      "WARNING: getmacbyip failed on [Errno 1] Operation not permitted\n",
      "WARNING: Mac address to reach destination not found. Using broadcast.\n",
      "WARNING: more getmacbyip failed on [Errno 1] Operation not permitted\n",
      "WARNING: more Mac address to reach destination not found. Using broadcast.\n",
      "WARNING: No route found for IPv6 destination 2001:db8:2::1 (no default route?)\n",
      "WARNING: No route found for IPv6 destination 2001:db8:2::1 (no default route?)\n",
      "WARNING: more No route found for IPv6 destination 2001:db8:2::2 (no default route?)\n"
     ]
    }
   ],
   "source": [
    "from scapy.all import Ether, IP, IPv6, TCP, UDP, wrpcap\n",
    "\n",
    "# Create an empty list to hold the network_packets\n",
    "network_packets = []\n",
    "\n",
    "# Generate 3 IPv4 packets with TCP protocol and specific source/destination ports\n",
    "for counter in range(3):\n",
    "    packet = Ether() / IP(src=\"192.168.1.{}\".format(counter+1), dst=\"192.168.1.{}\".format(counter+2)) / TCP(sport=1024+counter, dport=80)\n",
    "    network_packets.append(packet)\n",
    "\n",
    "# Generate 2 IPv6 packets with UDP protocol and specific source/destination ports\n",
    "for counter in range(2):\n",
    "    packet = Ether() / IPv6(src=\"2001:db8:1::{:02x}\".format(counter+1), dst=\"2001:db8:2::{:02x}\".format(counter+1)) / UDP(sport=1024+counter, dport=7809)\n",
    "    network_packets.append(packet)\n",
    "\n",
    "# Write the packet list to a pcap file\n",
    "wrpcap('accepted_packets.pcap', network_packets)"
   ]
  },
  {
   "cell_type": "code",
   "execution_count": null,
   "metadata": {},
   "outputs": [],
   "source": []
  }
 ],
 "metadata": {
  "colab": {
   "provenance": []
  },
  "kernelspec": {
   "display_name": "Python 3 (ipykernel)",
   "language": "python",
   "name": "python3"
  },
  "language_info": {
   "codemirror_mode": {
    "name": "ipython",
    "version": 3
   },
   "file_extension": ".py",
   "mimetype": "text/x-python",
   "name": "python",
   "nbconvert_exporter": "python",
   "pygments_lexer": "ipython3",
   "version": "3.10.6"
  }
 },
 "nbformat": 4,
 "nbformat_minor": 4
}
