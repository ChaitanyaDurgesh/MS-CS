{
 "cells": [
  {
   "cell_type": "code",
   "execution_count": null,
   "id": "a024822c-07b5-4190-936d-25f00a3bef6c",
   "metadata": {},
   "outputs": [],
   "source": [
    "# CS542 Spring 2024, sections 4 & 5\n",
    "# Notebook 1\n",
    "# Nik Sultana, Illinois Institute of Technology\n",
    "#\n",
    "# For the FABlib API, see: https://fabric-fablib.readthedocs.io/en/latest/index.html\n",
    "\n",
    "\n",
    "# NOTE Review how to upload & download from JupyterHub. You'll start by uploading this notebook.\n",
    "\n",
    "\n",
    "from fabrictestbed_extensions.fablib.fablib import FablibManager as fablib_manager\n",
    "\n",
    "fablib = fablib_manager()\n",
    "\n",
    "new_slice = False\n",
    "if 0 == len(fablib.get_slices()):\n",
    "    new_slice = True\n",
    "    image = 'default_ubuntu_20'\n",
    "    site = fablib.get_random_sites(count = 1)[0]\n",
    "    slice = fablib.new_slice(name = \"cs542_slice\")\n",
    "    n1 = slice.add_node(name = \"n1\", image = image, cores = 2, ram = 4, disk = 50, site = site)\n",
    "    n1_iface1 = n1.add_component(model = \"NIC_Basic\", name = \"iface1\").get_interfaces()[0]\n",
    "\n",
    "    n2 = slice.add_node(name = \"n2\", image = image, cores = 2, ram = 4, disk = 50, site = site)\n",
    "    n2_iface1 = n2.add_component(model = \"NIC_Basic\", name = \"iface1\").get_interfaces()[0]\n",
    "\n",
    "    net = slice.add_l2network(name = \"net\", interfaces=[n1_iface1, n2_iface1], type = \"L2Bridge\")\n",
    "    slice.submit()\n",
    "\n",
    "    #  |--------|                        |--------|\n",
    "    #  |        |                        |        |\n",
    "    #  |   n1   |iface1)--(net)---(iface1|   n2   |\n",
    "    #  |        |                        |        |\n",
    "    #  |________|                        |________|\n",
    "\n",
    "elif 1 == len(fablib.get_slices()):\n",
    "    slice = fablib.get_slices()[0]\n",
    "    slice.show()\n",
    "    for node in slice.get_nodes():\n",
    "      node.show()\n",
    "    for net in slice.get_networks():\n",
    "      net.show()\n",
    "    for iface in slice.get_interfaces():\n",
    "      iface.show()\n",
    "\n",
    "else: assert(len(fablib.get_slices()) <= 1)\n",
    "\n",
    "\n",
    "# NOTE Look at the slice through the FABRIC Portal -- through its non-API interface.\n",
    "#      You can also delete a slice from there.\n",
    "\n",
    "slice.get_lease_end() # By default, your slice will disappear after 24 hours."
   ]
  },
  {
   "cell_type": "code",
   "execution_count": null,
   "id": "6332caae-bc13-4f7b-ab86-5f30c70c378f",
   "metadata": {},
   "outputs": [],
   "source": [
    "# We can also execute commands on n1 from the notebook\n",
    "n1 = slice.get_node(name = \"n1\")\n",
    "n2 = slice.get_node(name = \"n2\")\n",
    "\n",
    "if new_slice:\n",
    "    threads = []\n",
    "    threads.append(n1.execute_thread(\"sudo apt update -y -qq && sudo apt install -y build-essential && sudo apt install -y net-tools && sudo apt install -y python3-scapy\"))\n",
    "    threads.append(n2.execute_thread(\"sudo apt update -y -qq && sudo apt install -y build-essential && sudo apt install -y net-tools && sudo apt install -y python3-scapy\"))\n",
    "    for thread in threads:\n",
    "        print(thread.result())"
   ]
  },
  {
   "cell_type": "code",
   "execution_count": null,
   "id": "2b4568a7-70c1-47d1-afc5-6511b743d24e",
   "metadata": {},
   "outputs": [],
   "source": [
    "print(\"ssh works on n1: \" + str(n1.test_ssh()))\n",
    "print(n1.get_ssh_command())\n",
    "print(\"ssh works on n2: \" + str(n2.test_ssh()))\n",
    "print(n2.get_ssh_command())\n",
    "\n",
    "# Try ssh'ing into n1 and n2\n",
    "# And run `sudo apt install -y tshark` -- this insists on an interactive question, so we cannot batch it with the others.\n",
    "\n",
    "# Now that the software is set up, let's configure the experiment network."
   ]
  },
  {
   "cell_type": "code",
   "execution_count": null,
   "id": "e2fc1a32-7549-42d1-88d1-bb7936bcf600",
   "metadata": {},
   "outputs": [],
   "source": [
    "# Management vs Experiment interfaces.\n",
    "print(\"ifconfig on n1:\")\n",
    "n1.execute(\"ifconfig\")\n",
    "print(\"ifconfig on n2:\")\n",
    "n2.execute(\"ifconfig\")\n",
    "\n",
    "print(\"Are those the 2 interfaces we created?\")\n",
    "\n",
    "# Over ssh, try `ifconfig -a`"
   ]
  },
  {
   "cell_type": "code",
   "execution_count": null,
   "id": "3fc1af0a-9686-4613-8dea-3ee397508c08",
   "metadata": {},
   "outputs": [],
   "source": [
    "from ipaddress import IPv6Address, IPv6Network\n",
    "\n",
    "n1_iface1 = n1.get_interface(name = \"n1-iface1-p1\")\n",
    "n2_iface1 = n2.get_interface(name = \"n2-iface1-p1\")\n",
    "# Use local IPv6 address -- see RFC 4193\n",
    "n1_iface1.ip_addr_add(addr = IPv6Address(\"fd3f:f209:c711::1\"), subnet = IPv6Network(\"fd3f:f209:c711::/48\"))\n",
    "n2_iface1.ip_addr_add(addr = IPv6Address(\"fd3f:f209:c711::2\"), subnet = IPv6Network(\"fd3f:f209:c711::/48\"))\n",
    "n1_iface1.show()\n",
    "n2_iface1.show()\n",
    "\n",
    "print(\"Experiment interfaces now have addresses\")"
   ]
  },
  {
   "cell_type": "code",
   "execution_count": null,
   "id": "00c5fec4-3e3e-4857-a778-e500e51ed9c6",
   "metadata": {},
   "outputs": [],
   "source": [
    "n1.execute(\"sudo ifconfig \" + n1_iface1.get_device_name() + \" up\")\n",
    "n2.execute(\"sudo ifconfig \" + n2_iface1.get_device_name() + \" up\")\n",
    "# Note can also use n1_ifaceX.ip_link_up()\n",
    "\n",
    "print(\"ifconfig on n1:\")\n",
    "n1.execute(\"ifconfig\")\n",
    "print(\"ifconfig on n2:\")\n",
    "n2.execute(\"ifconfig\")"
   ]
  },
  {
   "cell_type": "code",
   "execution_count": null,
   "id": "c560401c-60da-42dc-acca-354c5eb36fdb",
   "metadata": {},
   "outputs": [],
   "source": [
    "command = \"ping -c 1 -I \" + n1_iface1.get_device_name() + \" fd3f:f209:c711::2\"\n",
    "print(command) # We can copy-and-paste this into a shell on n1\n",
    "n1.execute(command) # Or execute it from here\n",
    "\n",
    "#Or equivalently: n1.execute(\"ping -c 1 -I enp7s0 fd3f:f209:c711::2\")"
   ]
  },
  {
   "cell_type": "code",
   "execution_count": null,
   "id": "a7ccf650-c2bf-4784-a48c-27f7341291cc",
   "metadata": {},
   "outputs": [],
   "source": [
    "# Transferring files between your JupyterHub and your node\n",
    "\n",
    "# NOTE could use n1.upload_file(...)\n",
    "def cmd_upload_file_to(n, filename):\n",
    "    scp_pre_command = (n.get_ssh_command()).split(\" \")\n",
    "    scp_pre_command[0] = 'scp'\n",
    "    scp_pre_command[5] = scp_pre_command[5].split(\"@\")\n",
    "    scp_pre_command[5] = scp_pre_command[5][0] + \"@[\" + scp_pre_command[5][1] + \"]:~/\"\n",
    "    scp_pre_command.insert(5, filename)\n",
    "    return ' '.join(scp_pre_command)\n",
    "\n",
    "def cmd_download_file_from(n, filename):\n",
    "    scp_pre_command = (n.get_ssh_command()).split(\" \")\n",
    "    scp_pre_command[0] = 'scp'\n",
    "    scp_pre_command[5] = scp_pre_command[5].split(\"@\")\n",
    "    scp_pre_command[5] = scp_pre_command[5][0] + \"@[\" + scp_pre_command[5][1] + \"]:~/\" + filename\n",
    "    scp_pre_command.append(\".\")\n",
    "    return ' '.join(scp_pre_command)\n",
    "\n",
    "print(cmd_upload_file_to(n1, \"Readme.md\"))\n",
    "print(cmd_download_file_from(n1, \"somefile\"))"
   ]
  },
  {
   "cell_type": "code",
   "execution_count": null,
   "id": "daff9981-cb37-4f90-b356-1500daebc6f7",
   "metadata": {},
   "outputs": [],
   "source": [
    "# Next:\n",
    "# 1) Using tcpdump and tshark\n",
    "#    Listening to an interface \"live\" and analyzing traffic.\n",
    "#    Saving a packet capture (pcap) file from a listening session.\n",
    "#    Analyzing a pcap file.\n",
    "# 2) \"Replaying\" traffic\n",
    "# 3) Using Scapy\n",
    "#    Listening to an interface \"live\" and analyzing traffic.\n",
    "#    Saving a packet capture (pcap) file from a listening session.\n",
    "#    Analyzing a pcap file.\n",
    "#    Editing a pcap file.\n",
    "#    Creating new packets into a pcap file or \"live\" traffic."
   ]
  },
  {
   "cell_type": "code",
   "execution_count": null,
   "id": "bdc4c31a-7859-4efd-a19c-bd0db66f9adf",
   "metadata": {},
   "outputs": [],
   "source": [
    "slice.delete()"
   ]
  }
 ],
 "metadata": {
  "kernelspec": {
   "display_name": "Python 3 (ipykernel)",
   "language": "python",
   "name": "python3"
  },
  "language_info": {
   "codemirror_mode": {
    "name": "ipython",
    "version": 3
   },
   "file_extension": ".py",
   "mimetype": "text/x-python",
   "name": "python",
   "nbconvert_exporter": "python",
   "pygments_lexer": "ipython3",
   "version": "3.10.6"
  },
  "toc-autonumbering": true,
  "toc-showcode": true,
  "toc-showmarkdowntxt": false
 },
 "nbformat": 4,
 "nbformat_minor": 5
}
